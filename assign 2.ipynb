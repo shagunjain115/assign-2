{
 "cells": [
  {
   "cell_type": "code",
   "execution_count": 15,
   "metadata": {},
   "outputs": [
    {
     "name": "stdout",
     "output_type": "stream",
     "text": [
      "Enter a number: 5\n",
      "Enter a number: 5\n",
      "Enter a number: 5\n",
      "Enter a number: 5\n",
      "Enter a number: 5\n",
      "Enter a number: fd\n",
      "invalid input\n",
      "Enter a number: done\n",
      "total is: 25.0 \n",
      "total number of number is: 5 \n",
      "average is : 5.0\n"
     ]
    }
   ],
   "source": [
    "count=0 \n",
    "total=0\n",
    "avg =0\n",
    "x=True\n",
    "while x:\n",
    " y= input(\"Enter a number: \")\n",
    " try:\n",
    "        y= float(y)\n",
    "        count =count + 1\n",
    "        total =total + y\n",
    "        avg = total/count\n",
    " except:\n",
    "    if y ==\"done\":\n",
    "        break\n",
    "    else:\n",
    "        print(\"invalid input\") \n",
    " continue\n",
    "print(\"total is:\",total,\"\\ntotal number of number is:\",count, \"\\naverage is :\" ,avg )\n"
   ]
  },
  {
   "cell_type": "code",
   "execution_count": 2,
   "metadata": {},
   "outputs": [
    {
     "name": "stdout",
     "output_type": "stream",
     "text": [
      "enter hours: 50\n",
      "enter rate: 10\n",
      "pay: 550.0\n"
     ]
    }
   ],
   "source": [
    "a = int(input(\"enter hours: \"))\n",
    "b= int(input(\"enter rate: \"))\n",
    "\n",
    "def computepay(x,y):\n",
    " r=x-40\n",
    " z=(40*y)+(r*1.5*y)\n",
    " return z\n",
    "print(\"pay:\",computepay(a,b))\n"
   ]
  },
  {
   "cell_type": "code",
   "execution_count": 13,
   "metadata": {},
   "outputs": [
    {
     "name": "stdout",
     "output_type": "stream",
     "text": [
      "position of ':' in string is 18\n",
      "after slice  0.8475\n",
      "floating point number 0.8475\n"
     ]
    }
   ],
   "source": [
    "str = 'X-DSPAM-Confidence: 0.8475'\n",
    "y = str.find(\":\")\n",
    "print(\"position of ':' in string is\",y)\n",
    "z=str[y+1:]\n",
    "print(\"after slice\",z)\n",
    "z=float(z)\n",
    "print(\"floating point number\",z)"
   ]
  }
 ],
 "metadata": {
  "kernelspec": {
   "display_name": "Python 3",
   "language": "python",
   "name": "python3"
  },
  "language_info": {
   "codemirror_mode": {
    "name": "ipython",
    "version": 3
   },
   "file_extension": ".py",
   "mimetype": "text/x-python",
   "name": "python",
   "nbconvert_exporter": "python",
   "pygments_lexer": "ipython3",
   "version": "3.7.3"
  }
 },
 "nbformat": 4,
 "nbformat_minor": 2
}
